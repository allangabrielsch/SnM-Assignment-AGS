{
 "cells": [
  {
   "attachments": {},
   "cell_type": "markdown",
   "metadata": {},
   "source": [
    "### Assignment: Modelling and Simulations \n",
    "*Allan G. Schweinfurth*"
   ]
  },
  {
   "attachments": {},
   "cell_type": "markdown",
   "metadata": {},
   "source": [
    "We start with a preamble, calling the required packages and commands for a functional code."
   ]
  },
  {
   "cell_type": "code",
   "execution_count": null,
   "metadata": {},
   "outputs": [],
   "source": [
    "%matplotlib inline\n",
    "from pyprojroot import here\n",
    "workspace_path = str(here())\n",
    "%cd $workspace_path\n",
    "print(f\"Working Directory has been set to `{workspace_path}`\")\n",
    "\n",
    "from os import path\n",
    "import autolens as al\n",
    "import autolens.plot as aplt"
   ]
  },
  {
   "attachments": {},
   "cell_type": "markdown",
   "metadata": {},
   "source": [
    "### 1. Grid Setup"
   ]
  },
  {
   "attachments": {},
   "cell_type": "markdown",
   "metadata": {},
   "source": [
    "The first thing we have to do is generate a `Grid2D` object. This is where the ray tracing will be taking place. The `shape_native` value gives the dimension of the grid and the value of `pixel_scales` is the arcsecond-to-pixel conversion factor. \n",
    "I.e, for a 250x250 grid and a conversion factor of 0.02\", this yields a 5\"x5\" grid."
   ]
  },
  {
   "cell_type": "code",
   "execution_count": null,
   "metadata": {},
   "outputs": [],
   "source": [
    "grid_2d  = al.Grid2D.uniform(shape_native=(250, 250), pixel_scales=0.02)"
   ]
  },
  {
   "attachments": {},
   "cell_type": "markdown",
   "metadata": {},
   "source": [
    "We can see this grid with:"
   ]
  },
  {
   "cell_type": "code",
   "execution_count": null,
   "metadata": {},
   "outputs": [],
   "source": [
    "mat_plot_2d = aplt.MatPlot2D(\n",
    "    title=aplt.Title(label=\"Grid2D\")\n",
    ")\n",
    "\n",
    "grid_2d_plotter = aplt.Grid2DPlotter(grid=grid_2d, mat_plot_2d=mat_plot_2d)\n",
    "grid_2d_plotter.figure_2d()"
   ]
  },
  {
   "attachments": {},
   "cell_type": "markdown",
   "metadata": {},
   "source": [
    "### 2. Galaxies"
   ]
  },
  {
   "attachments": {},
   "cell_type": "markdown",
   "metadata": {},
   "source": [
    "Next up, we would like to generate the galaxies, which are `al.Galaxy` objects. There's two important distinctions to be made. The `lens_galaxy` and the `source_galaxy`. \n",
    "* the `lens_galaxy` is the galaxy closer (lower redshift) to the observer. Its gravity acts as a *lens* and thus the name\n",
    "* the `source_galaxy` is the galaxy whose light path was distorted by the `lens_galaxy`. It is farther away and has a higher redshift.\n",
    "\n",
    "All galaxies have certain attributes depending on their morphology, luminosity, mass, etc. These are defined during the object initialisation."
   ]
  },
  {
   "attachments": {},
   "cell_type": "markdown",
   "metadata": {},
   "source": [
    "#### 2.1 Lens Galaxy"
   ]
  },
  {
   "attachments": {},
   "cell_type": "markdown",
   "metadata": {},
   "source": [
    "Let's create our `lens_galaxy` first. We know this galaxy needs to have a mass distribution, and a light distribution. "
   ]
  },
  {
   "cell_type": "code",
   "execution_count": null,
   "metadata": {},
   "outputs": [],
   "source": [
    "\n",
    "lens_galaxy = al.Galaxy(\n",
    "    redshift=0.5,\n",
    "    mass=al.mp.Isothermal(\n",
    "        centre=(0,0), \n",
    "        ell_comps=(0.0,0.0), \n",
    "        einstein_radius=0.5\n",
    "    ),\n",
    "    disk=al.lp.ExponentialSph(\n",
    "        centre=(0,0),\n",
    "        effective_radius=1,\n",
    "        intensity=0.75\n",
    "    ),\n",
    "    bulge=al.lp.ExponentialCoreSph(\n",
    "        centre=(0,0),\n",
    "        effective_radius=0.25,\n",
    "        intensity=0.01\n",
    "    )\n",
    ")"
   ]
  },
  {
   "attachments": {},
   "cell_type": "markdown",
   "metadata": {},
   "source": [
    "We can see what our `lens_galaxy` look like. For that we define a `galaxy_plotter` object with the galaxy and grid we would like to plot, followed by calling the `.figures_2d(image=True)` method to generate the image. We also use an `include2d` object to hide unnecessary information (caustics, critical curves, etc.)"
   ]
  },
  {
   "cell_type": "code",
   "execution_count": null,
   "metadata": {},
   "outputs": [],
   "source": [
    "include_2d = aplt.Include2D(\n",
    "    origin=False, \n",
    "    mask=False, \n",
    "    border=False, \n",
    "    light_profile_centres=False, \n",
    "    tangential_critical_curves=False,\n",
    "    radial_critical_curves=False,\n",
    "    mass_profile_centres=False,\n",
    "    radial_caustics=False,\n",
    "    tangential_caustics=False\n",
    ")\n",
    "galaxy_plotter = aplt.GalaxyPlotter(galaxy=lens_galaxy,grid=grid_2d, include_2d=include_2d) \n",
    "galaxy_plotter.set_title('Lens Galaxy')\n",
    "galaxy_plotter.figures_2d(image=True)\n"
   ]
  },
  {
   "attachments": {},
   "cell_type": "markdown",
   "metadata": {},
   "source": [
    "Even more, we can see each light profile individually (that of the `Disk` and that of the `Bulge`)"
   ]
  },
  {
   "cell_type": "code",
   "execution_count": null,
   "metadata": {},
   "outputs": [],
   "source": [
    "galaxy_plotter.subplot_of_light_profiles(image=True)\n",
    "\n"
   ]
  },
  {
   "attachments": {},
   "cell_type": "markdown",
   "metadata": {},
   "source": [
    "#### 2.2 Source Galaxy"
   ]
  },
  {
   "attachments": {},
   "cell_type": "markdown",
   "metadata": {},
   "source": [
    "Now our `source_galaxy`. Wether or not we define a mass for this galaxy is irrelevant, as only its light plays a role in the lensing process. "
   ]
  },
  {
   "cell_type": "code",
   "execution_count": null,
   "metadata": {},
   "outputs": [],
   "source": [
    "source_galaxy = al.Galaxy(\n",
    "    redshift=1.0,\n",
    "    bulge=al.lp.DevVaucouleursSph(\n",
    "        centre=(0.5, 0), \n",
    "        intensity=0.01, \n",
    "        effective_radius=0.1\n",
    "    ),\n",
    "    disk=al.lp.Exponential(\n",
    "        centre=(0.5, 0),\n",
    "        ell_comps=(0.3, 0.5),\n",
    "        intensity=0.50,\n",
    "        effective_radius=0.4,\n",
    "    ),\n",
    ")"
   ]
  },
  {
   "attachments": {},
   "cell_type": "markdown",
   "metadata": {},
   "source": [
    "Similarly, we can plot this galaxy by changing the galaxy in the `galaxy_plotter` object"
   ]
  },
  {
   "cell_type": "code",
   "execution_count": null,
   "metadata": {},
   "outputs": [],
   "source": [
    "galaxy_plotter = aplt.GalaxyPlotter(galaxy=source_galaxy,grid=grid_2d, include_2d=include_2d) \n",
    "galaxy_plotter.set_title('Source Galaxy')\n",
    "galaxy_plotter.figures_2d(image=True)\n",
    "galaxy_plotter.subplot_of_light_profiles(image=True)\n"
   ]
  },
  {
   "cell_type": "markdown",
   "metadata": {},
   "source": [
    "A very nice disk galaxy!"
   ]
  },
  {
   "attachments": {},
   "cell_type": "markdown",
   "metadata": {},
   "source": [
    "### 3. Tracer\n"
   ]
  },
  {
   "attachments": {},
   "cell_type": "markdown",
   "metadata": {},
   "source": [
    "The `tracer` is the object that performs the ray tracing. It works with `planes`, where each plane contains a group of galaxies at the same redshift. It also includes a `cosmology` which is used to compute how space gets distorted. We'll be using the `FlatLambdaCDM` model with $H_0=70 km\\cdot s^{-1}/kpc$ and $\\Omega_0=0.3$"
   ]
  },
  {
   "cell_type": "code",
   "execution_count": null,
   "metadata": {},
   "outputs": [],
   "source": [
    "tracer=al.Tracer.from_galaxies(\n",
    "    galaxies=[lens_galaxy,source_galaxy],\n",
    "    cosmology=al.cosmo.FlatLambdaCDM(70,0.3)\n",
    ")"
   ]
  },
  {
   "attachments": {},
   "cell_type": "markdown",
   "metadata": {},
   "source": [
    "Now, we can see the results of the tracing. Similar to the Galaxies we use a `.tarcerPlotter` method to generate a plot"
   ]
  },
  {
   "cell_type": "code",
   "execution_count": null,
   "metadata": {},
   "outputs": [],
   "source": [
    "tracer_plotter = aplt.TracerPlotter(tracer=tracer,grid=grid_2d, include_2d=include_2d)\n",
    "tracer_plotter.figures_2d(image=True) "
   ]
  },
  {
   "attachments": {},
   "cell_type": "markdown",
   "metadata": {},
   "source": [
    "We can see each individual plane, using the `figures_2d_of_planes(plane_index=i,plane_image=True)` method, where $i$ is 0 for the lens plane and 1 for the source plane"
   ]
  },
  {
   "cell_type": "code",
   "execution_count": null,
   "metadata": {},
   "outputs": [],
   "source": [
    "tracer_plotter.figures_2d_of_planes(plane_index=0, plane_image=True)\n",
    "tracer_plotter.figures_2d_of_planes(plane_index=1, plane_image=True)\n"
   ]
  },
  {
   "attachments": {},
   "cell_type": "markdown",
   "metadata": {},
   "source": [
    "Moreover, we can see several sublots of important data (convergence, potential, deflection angles) using "
   ]
  },
  {
   "cell_type": "code",
   "execution_count": null,
   "metadata": {},
   "outputs": [],
   "source": [
    "tracer_plotter.subplot_tracer()"
   ]
  },
  {
   "cell_type": "code",
   "execution_count": null,
   "metadata": {},
   "outputs": [],
   "source": []
  }
 ],
 "metadata": {
  "kernelspec": {
   "display_name": "Python 3",
   "language": "python",
   "name": "python3"
  },
  "language_info": {
   "codemirror_mode": {
    "name": "ipython",
    "version": 3
   },
   "file_extension": ".py",
   "mimetype": "text/x-python",
   "name": "python",
   "nbconvert_exporter": "python",
   "pygments_lexer": "ipython3",
   "version": "3.8.10"
  },
  "orig_nbformat": 4
 },
 "nbformat": 4,
 "nbformat_minor": 2
}
