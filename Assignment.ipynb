{
 "cells": [
  {
   "attachments": {},
   "cell_type": "markdown",
   "metadata": {},
   "source": [
    "### Assignment: Modelling and Simulations \n",
    "*Allan G. Schweinfurth*"
   ]
  },
  {
   "attachments": {},
   "cell_type": "markdown",
   "metadata": {},
   "source": [
    "We start with a preamble, calling the required packages and commands for a functional code."
   ]
  },
  {
   "cell_type": "code",
   "execution_count": null,
   "metadata": {},
   "outputs": [],
   "source": [
    "\n",
    "from pyprojroot import here\n",
    "workspace_path = str(here())\n",
    "%cd $workspace_path\n",
    "print(f\"Working Directory has been set to `{workspace_path}`\")\n",
    "\n",
    "from os import path\n",
    "import autolens as al\n",
    "import autolens.plot as aplt\n",
    "import autofit as af"
   ]
  },
  {
   "attachments": {},
   "cell_type": "markdown",
   "metadata": {},
   "source": [
    "### 1. Grid Setup"
   ]
  },
  {
   "attachments": {},
   "cell_type": "markdown",
   "metadata": {},
   "source": [
    "The first thing we have to do is generate a `Grid2D` object. This is where the ray tracing will be taking place. The `shape_native` value gives the dimension of the grid and the value of `pixel_scales` is the arcsecond-to-pixel conversion factor. \n",
    "I.e, for a 250x250 grid and a conversion factor of 0.02\", this yields a 5\"x5\" grid."
   ]
  },
  {
   "cell_type": "code",
   "execution_count": null,
   "metadata": {},
   "outputs": [],
   "source": [
    "grid_2d  = al.Grid2D.uniform(shape_native=(1000, 1000), pixel_scales=0.02)"
   ]
  },
  {
   "attachments": {},
   "cell_type": "markdown",
   "metadata": {},
   "source": [
    "We can see this grid with:"
   ]
  },
  {
   "cell_type": "code",
   "execution_count": null,
   "metadata": {},
   "outputs": [],
   "source": [
    "mat_plot_2d = aplt.MatPlot2D(\n",
    "    title=aplt.Title(label=\"Grid2D\")\n",
    ")\n",
    "\n",
    "grid_2d_plotter = aplt.Grid2DPlotter(grid=grid_2d, mat_plot_2d=mat_plot_2d)\n",
    "grid_2d_plotter.figure_2d()"
   ]
  },
  {
   "attachments": {},
   "cell_type": "markdown",
   "metadata": {},
   "source": [
    "### 2. Galaxies"
   ]
  },
  {
   "attachments": {},
   "cell_type": "markdown",
   "metadata": {},
   "source": [
    "Next up, we would like to generate the galaxies, which are `al.Galaxy` objects. There's two important distinctions to be made. The `lens_galaxy` and the `source_galaxy`. \n",
    "* the `lens_galaxy` is the galaxy closer (lower redshift) to the observer. Its gravity acts as a *lens* and thus the name\n",
    "* the `source_galaxy` is the galaxy whose light path was distorted by the `lens_galaxy`. It is farther away and has a higher redshift.\n",
    "\n",
    "All galaxies have certain attributes depending on their morphology, luminosity, mass, etc. These are defined during the object initialisation."
   ]
  },
  {
   "attachments": {},
   "cell_type": "markdown",
   "metadata": {},
   "source": [
    "#### 2.1 Lens Galaxy"
   ]
  },
  {
   "attachments": {},
   "cell_type": "markdown",
   "metadata": {},
   "source": [
    "Let's create our `lens_galaxy` first. We know this galaxy needs to have a mass distribution, and a light distribution. "
   ]
  },
  {
   "cell_type": "code",
   "execution_count": null,
   "metadata": {},
   "outputs": [],
   "source": [
    "\n",
    "lens_galaxy = al.Galaxy(\n",
    "    redshift=0.5,\n",
    "    mass=al.mp.Isothermal(\n",
    "        centre=(0,0), \n",
    "        ell_comps=(0.0,0.0), \n",
    "        einstein_radius=5\n",
    "    ),\n",
    "    disk=al.lp.ExponentialSph(\n",
    "        centre=(0,0),\n",
    "        effective_radius=1,\n",
    "        intensity=0.75\n",
    "    ),\n",
    "    bulge=al.lp.ExponentialCoreSph(\n",
    "        centre=(0,0),\n",
    "        effective_radius=0.25,\n",
    "        intensity=1\n",
    "    )\n",
    ")"
   ]
  },
  {
   "attachments": {},
   "cell_type": "markdown",
   "metadata": {},
   "source": [
    "We can see what our `lens_galaxy` look like. For that we define a `galaxy_plotter` object with the galaxy and grid we would like to plot, followed by calling the `.figures_2d(image=True)` method to generate the image. We also use an `include2d` object to hide unnecessary information (caustics, critical curves, etc.)"
   ]
  },
  {
   "cell_type": "code",
   "execution_count": null,
   "metadata": {},
   "outputs": [],
   "source": [
    "include_2d = aplt.Include2D(\n",
    "    origin=False, \n",
    "    mask=False, \n",
    "    border=False, \n",
    "    light_profile_centres=False, \n",
    "    tangential_critical_curves=False,\n",
    "    radial_critical_curves=False,\n",
    "    mass_profile_centres=False,\n",
    "    radial_caustics=False,\n",
    "    tangential_caustics=False\n",
    ")\n",
    "galaxy_plotter = aplt.GalaxyPlotter(galaxy=lens_galaxy,grid=grid_2d, include_2d=include_2d) \n",
    "galaxy_plotter.set_title('Lens Galaxy')\n",
    "galaxy_plotter.figures_2d(image=True)\n"
   ]
  },
  {
   "attachments": {},
   "cell_type": "markdown",
   "metadata": {},
   "source": [
    "Even more, we can see each light profile individually (that of the `Disk` and that of the `Bulge`)"
   ]
  },
  {
   "cell_type": "code",
   "execution_count": null,
   "metadata": {},
   "outputs": [],
   "source": [
    "galaxy_plotter.subplot_of_light_profiles(image=True)\n",
    "\n"
   ]
  },
  {
   "attachments": {},
   "cell_type": "markdown",
   "metadata": {},
   "source": [
    "#### 2.2 Source Galaxy"
   ]
  },
  {
   "attachments": {},
   "cell_type": "markdown",
   "metadata": {},
   "source": [
    "Now our `source_galaxy`. Wether or not we define a mass for this galaxy is irrelevant, as only its light plays a role in the lensing process. "
   ]
  },
  {
   "cell_type": "code",
   "execution_count": null,
   "metadata": {},
   "outputs": [],
   "source": [
    "source_galaxy = al.Galaxy(\n",
    "    redshift=2.5,\n",
    "    bulge=al.lp.DevVaucouleursSph(\n",
    "        centre=(-1, 0), \n",
    "        intensity=0.01, \n",
    "        effective_radius=0.2\n",
    "    ),\n",
    "    disk=al.lp.Exponential(\n",
    "        centre=(-1, 0),\n",
    "        ell_comps=(0, 0.5),\n",
    "        intensity=1,\n",
    "        effective_radius=0.7\n",
    "    ),\n",
    ")"
   ]
  },
  {
   "attachments": {},
   "cell_type": "markdown",
   "metadata": {},
   "source": [
    "Similarly, we can plot this galaxy by changing the galaxy in the `galaxy_plotter` object"
   ]
  },
  {
   "cell_type": "code",
   "execution_count": null,
   "metadata": {},
   "outputs": [],
   "source": [
    "galaxy_plotter = aplt.GalaxyPlotter(galaxy=source_galaxy,grid=grid_2d, include_2d=include_2d) \n",
    "galaxy_plotter.set_title('Source Galaxy')\n",
    "galaxy_plotter.figures_2d(image=True)\n",
    "galaxy_plotter.subplot_of_light_profiles(image=True)\n"
   ]
  },
  {
   "cell_type": "markdown",
   "metadata": {},
   "source": [
    "A very nice disk galaxy!"
   ]
  },
  {
   "attachments": {},
   "cell_type": "markdown",
   "metadata": {},
   "source": [
    "### 3. Tracer\n"
   ]
  },
  {
   "attachments": {},
   "cell_type": "markdown",
   "metadata": {},
   "source": [
    "The `tracer` is the object that performs the ray tracing. It works with `planes`, where each plane contains a group of galaxies at the same redshift. It also includes a `cosmology` which is used to compute how space gets distorted. We'll be using the `FlatLambdaCDM` model with $H_0=70 km\\cdot s^{-1}/kpc$ and $\\Omega_0=0.3$"
   ]
  },
  {
   "cell_type": "code",
   "execution_count": null,
   "metadata": {},
   "outputs": [],
   "source": [
    "tracer=al.Tracer.from_galaxies(\n",
    "    galaxies=[lens_galaxy,source_galaxy],\n",
    "    cosmology=al.cosmo.FlatLambdaCDM(70,0.3)\n",
    ")"
   ]
  },
  {
   "attachments": {},
   "cell_type": "markdown",
   "metadata": {},
   "source": [
    "Now, we can see the results of the tracing. Similar to the Galaxies we use a `.tarcerPlotter` method to generate a plot"
   ]
  },
  {
   "cell_type": "code",
   "execution_count": null,
   "metadata": {},
   "outputs": [],
   "source": [
    "tracer_plotter = aplt.TracerPlotter(tracer=tracer,grid=grid_2d, include_2d=include_2d)\n",
    "tracer_plotter.figures_2d(image=True) "
   ]
  },
  {
   "attachments": {},
   "cell_type": "markdown",
   "metadata": {},
   "source": [
    "We can see each individual plane, using the `figures_2d_of_planes(plane_index=i,plane_image=True)` method, where $i$ is 0 for the lens plane and 1 for the source plane"
   ]
  },
  {
   "cell_type": "code",
   "execution_count": null,
   "metadata": {},
   "outputs": [],
   "source": [
    "tracer_plotter.figures_2d_of_planes(plane_index=0, plane_image=True)\n",
    "tracer_plotter.figures_2d_of_planes(plane_index=1, plane_image=True)\n"
   ]
  },
  {
   "attachments": {},
   "cell_type": "markdown",
   "metadata": {},
   "source": [
    "Moreover, we can see several sublots of important data (convergence, potential, deflection angles) using "
   ]
  },
  {
   "cell_type": "code",
   "execution_count": null,
   "metadata": {},
   "outputs": [],
   "source": [
    "# tracer_plotter.subplot_tracer()"
   ]
  },
  {
   "attachments": {},
   "cell_type": "markdown",
   "metadata": {},
   "source": [
    "### 4. Observatory View"
   ]
  },
  {
   "attachments": {},
   "cell_type": "markdown",
   "metadata": {},
   "source": [
    "We now want to know how this will look through an actual telescope, to make it more realistic with real observations."
   ]
  },
  {
   "attachments": {},
   "cell_type": "markdown",
   "metadata": {},
   "source": [
    "#### 4.1 Hubble Space Telescope"
   ]
  },
  {
   "attachments": {},
   "cell_type": "markdown",
   "metadata": {},
   "source": [
    "We first define the Point Spread Function (PSF), which is a characteristic value of any optical system. The PSF is then convoluted with the image. For the Hubble Space Telescope. (Taken from the package documentation)"
   ]
  },
  {
   "cell_type": "code",
   "execution_count": null,
   "metadata": {},
   "outputs": [],
   "source": [
    "psf_2d = al.Kernel2D.from_gaussian(\n",
    "    shape_native=(11, 11), sigma=0.1, pixel_scales=grid_2d.pixel_scales\n",
    ")"
   ]
  },
  {
   "attachments": {},
   "cell_type": "markdown",
   "metadata": {},
   "source": [
    "Now we \"pad\" the image, so the edge effects don't affect the convolution with the PSF"
   ]
  },
  {
   "cell_type": "code",
   "execution_count": null,
   "metadata": {},
   "outputs": [],
   "source": [
    "normal_image_2d = tracer.image_2d_from(grid=grid_2d)\n",
    "padded_image_2d = tracer.padded_image_2d_from(\n",
    "    grid=grid_2d, psf_shape_2d=psf_2d.shape_native\n",
    ")"
   ]
  },
  {
   "attachments": {},
   "cell_type": "markdown",
   "metadata": {},
   "source": [
    "Now that the image has been prepared, we can begin by setting up a `simulator` in which we specify `exposure_time`,`psf`, `background_sky_level` and `poisson_noise`"
   ]
  },
  {
   "cell_type": "code",
   "execution_count": null,
   "metadata": {},
   "outputs": [],
   "source": [
    "simulator = al.SimulatorImaging(\n",
    "    exposure_time=300.0, psf=psf_2d, background_sky_level=0.1, add_poisson_noise=True\n",
    ")"
   ]
  },
  {
   "attachments": {},
   "cell_type": "markdown",
   "metadata": {},
   "source": [
    "Now we can plot this, similar to how it was plotted with `tracer` and `galaxy`"
   ]
  },
  {
   "cell_type": "code",
   "execution_count": null,
   "metadata": {},
   "outputs": [],
   "source": [
    "imaging = simulator.via_tracer_from(tracer=tracer, grid=grid_2d)\n",
    "imaging_plotter = aplt.ImagingPlotter(imaging=imaging)\n",
    "imaging_plotter.figures_2d(image=True)\n"
   ]
  },
  {
   "attachments": {},
   "cell_type": "markdown",
   "metadata": {},
   "source": [
    "in addition, the `,subplot_imaging()` method provides some valuable data on the \"observation\", including the noise-map and the chi squared map"
   ]
  },
  {
   "cell_type": "code",
   "execution_count": null,
   "metadata": {},
   "outputs": [],
   "source": [
    "imaging_plotter.subplot_imaging()"
   ]
  },
  {
   "attachments": {},
   "cell_type": "markdown",
   "metadata": {},
   "source": [
    "We can output all this data to a `.fits` files, which is the standard in astronomy."
   ]
  },
  {
   "cell_type": "code",
   "execution_count": null,
   "metadata": {},
   "outputs": [],
   "source": [
    "dataset_path = path.join(\"dataset\", \"imaging\", \"dataforfit\")\n",
    "imaging.output_to_fits(\n",
    "    image_path=path.join(dataset_path, \"image.fits\"),\n",
    "    noise_map_path=path.join(dataset_path, \"noise_map.fits\"),\n",
    "    psf_path=path.join(dataset_path, \"psf.fits\"),\n",
    "    overwrite=True,\n",
    ")"
   ]
  },
  {
   "attachments": {},
   "cell_type": "markdown",
   "metadata": {},
   "source": [
    "#### 5. Modelling the System\n"
   ]
  },
  {
   "attachments": {},
   "cell_type": "markdown",
   "metadata": {},
   "source": [
    "First we import the results from the previous step (this is not necessary but in real life the data would need to be imported)"
   ]
  },
  {
   "cell_type": "code",
   "execution_count": null,
   "metadata": {},
   "outputs": [],
   "source": [
    "imaging = al.Imaging.from_fits(\n",
    "    image_path=path.join(dataset_path, \"image.fits\"),\n",
    "    noise_map_path=path.join(dataset_path, \"noise_map.fits\"),\n",
    "    psf_path=path.join(dataset_path, \"psf.fits\"),\n",
    "    pixel_scales=0.02,\n",
    ")"
   ]
  },
  {
   "attachments": {},
   "cell_type": "markdown",
   "metadata": {},
   "source": [
    "Next up we'll prepare the data. We first apply a mask to it, such that the background noise from empty space poses no problem in the fitting."
   ]
  },
  {
   "cell_type": "code",
   "execution_count": null,
   "metadata": {},
   "outputs": [],
   "source": [
    "imaging_plotter = aplt.ImagingPlotter(imaging=imaging)\n",
    "imaging_plotter.subplot_imaging()\n",
    "\n",
    "mask_2d = al.Mask2D.circular(\n",
    "    shape_native=imaging.shape_native, pixel_scales=imaging.pixel_scales, radius=8\n",
    ")\n",
    "\n",
    "imaging = imaging.apply_mask(mask=mask_2d)\n",
    "\n",
    "imaging_plotter = aplt.ImagingPlotter(imaging=imaging)\n",
    "imaging_plotter.subplot_imaging()\n",
    "\n",
    "\n"
   ]
  },
  {
   "attachments": {},
   "cell_type": "markdown",
   "metadata": {},
   "source": [
    "Now we create a model with which the search will be performed. From observation, the redshift can be estimated as well as the light and mass distributions. In real life, several different light and mass profiles would be tested as sometimes the imaging doesn`t exactly provide much information on this, for instance when the lensing is so strong the image is totally distorted. This applies usually to the source galaxy, as the lens galaxy is directly obsevable and its properties can be determined. IN addition to this we can limit some of the priors and assume a probability distribution for certain attributes such as centre, radius, intensity, etc."
   ]
  },
  {
   "attachments": {},
   "cell_type": "markdown",
   "metadata": {},
   "source": [
    "Initial model of the lens galaxy:"
   ]
  },
  {
   "cell_type": "code",
   "execution_count": null,
   "metadata": {},
   "outputs": [],
   "source": [
    "mass_lns = af.Model(al.mp.Isothermal)\n",
    "bulge_lns = af.Model(al.lp.Sersic)\n",
    "disk_lns = af.Model(al.lp.ExponentialSph)\n",
    "\n",
    "mass_lns.centre.centre_0 = af.UniformPrior(lower_limit=-0.05, upper_limit=0.05)\n",
    "mass_lns.centre.centre_1 = af.UniformPrior(lower_limit=-0.05, upper_limit=0.05)\n",
    "bulge_lns.centre.centre_0 = af.UniformPrior(lower_limit=-0.05, upper_limit=0.05)\n",
    "bulge_lns.centre.centre_1 = af.UniformPrior(lower_limit=-0.05, upper_limit=0.05)\n",
    "disk_lns.centre.centre_0 = af.UniformPrior(lower_limit=-0.05, upper_limit=0.05)\n",
    "disk_lns.centre.centre_1 = af.UniformPrior(lower_limit=-0.05, upper_limit=0.05)\n",
    "mass_lns.ell_comps.ell_comps_0 = af.GaussianPrior(\n",
    "    mean=0.0, sigma=0.3, lower_limit=-0.1, upper_limit=0.1\n",
    ")\n",
    "mass_lns.ell_comps.ell_comps_1 = af.GaussianPrior(\n",
    "    mean=0.0, sigma=0.3, lower_limit=-0.1, upper_limit=0.1\n",
    ")\n",
    "disk_lns.effective_radius = af.GaussianPrior(\n",
    "    mean=1.0, sigma=0.8, lower_limit=0.0, upper_limit=2\n",
    ")\n",
    "bulge_lns.effective_radius = af.GaussianPrior(\n",
    "    mean=1.0, sigma=0.8, lower_limit=0.0, upper_limit=2\n",
    ")\n",
    "mass_lns.einstein_radius = af.GaussianPrior(\n",
    "    mean=5, sigma=0.2, lower_limit=2.5, upper_limit=7.5\n",
    ")\n",
    "lens_galaxy_model = af.Model(al.Galaxy, redshift=0.5, mass=mass_lns, disk=disk_lns, bulge=bulge_lns)\n"
   ]
  },
  {
   "attachments": {},
   "cell_type": "markdown",
   "metadata": {},
   "source": [
    "similarly for the source galaxy"
   ]
  },
  {
   "cell_type": "code",
   "execution_count": null,
   "metadata": {},
   "outputs": [],
   "source": [
    "bulge_src=af.Model(al.lp.DevVaucouleursSph)\n",
    "disk_src=af.Model(al.lp.Exponential)\n",
    "\n",
    "\n",
    "disk_src.effective_radius = af.UniformPrior(lower_limit=0.0, upper_limit=1)\n",
    "bulge_src.effective_radius = af.UniformPrior(lower_limit=0.0, upper_limit=1)\n",
    "\n",
    "source_galaxy_model = af.Model(al.Galaxy, redshift=2.5,bulge=bulge_src, disk=disk_src)\n"
   ]
  },
  {
   "attachments": {},
   "cell_type": "markdown",
   "metadata": {},
   "source": [
    "And lastly we create our model system"
   ]
  },
  {
   "cell_type": "code",
   "execution_count": null,
   "metadata": {},
   "outputs": [],
   "source": [
    "model = af.Collection(galaxies=af.Collection(lens=lens_galaxy_model, source=source_galaxy_model)) "
   ]
  },
  {
   "attachments": {},
   "cell_type": "markdown",
   "metadata": {},
   "source": [
    "Now we can start the search, for this we'll use the `Dynesty` tool from `autofit`, which performs a non-linear search from the imaging. This part of the code is very cpu-intensive, thus it should be ran as a code rather than a jupyter notebook."
   ]
  },
  {
   "cell_type": "code",
   "execution_count": null,
   "metadata": {},
   "outputs": [],
   "source": [
    "\n",
    "search = af.DynestyStatic(\n",
    "    path_prefix=path.join(dataset_path,\"Assignment\"),\n",
    "    name=\"search\",\n",
    "    unique_tag=\"01\",\n",
    "    nlive=40,\n",
    "    walks=5,\n",
    "    force_x1_cpu=False\n",
    ")\n",
    "\n",
    "analysis = al.AnalysisImaging(dataset=imaging)\n",
    "\n",
    "print(\n",
    "    \"Dynesty is running\")\n",
    "\n",
    "result = search.fit(model=model, analysis=analysis)\n",
    "\n",
    "print(\"Results Info:\")\n",
    "print(result.info)\n",
    "\n",
    "fit_imaging_plotter = aplt.FitImagingPlotter(fit=result.max_log_likelihood_fit)\n",
    "fit_imaging_plotter.subplot_fit_imaging()"
   ]
  }
 ],
 "metadata": {
  "kernelspec": {
   "display_name": "Python 3",
   "language": "python",
   "name": "python3"
  },
  "language_info": {
   "codemirror_mode": {
    "name": "ipython",
    "version": 3
   },
   "file_extension": ".py",
   "mimetype": "text/x-python",
   "name": "python",
   "nbconvert_exporter": "python",
   "pygments_lexer": "ipython3",
   "version": "3.8.10"
  },
  "orig_nbformat": 4
 },
 "nbformat": 4,
 "nbformat_minor": 2
}
